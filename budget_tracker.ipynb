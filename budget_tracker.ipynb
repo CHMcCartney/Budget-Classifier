{
 "cells": [
  {
   "cell_type": "markdown",
   "metadata": {},
   "source": [
    "#### Import Statements"
   ]
  },
  {
   "cell_type": "code",
   "execution_count": null,
   "metadata": {},
   "outputs": [
    {
     "name": "stdout",
     "output_type": "stream",
     "text": [
      "c:\\Users\\charl\\miniforge3\\python.exe\n"
     ]
    }
   ],
   "source": [
    "import sys \n",
    "import pdfplumber \n",
    "import pandas as pd \n",
    "import re "
   ]
  },
  {
   "cell_type": "code",
   "execution_count": null,
   "metadata": {},
   "outputs": [],
   "source": [
    "CATEGORY_KEYWORDS = {\n",
    "    \"Food & Dining\": [\"chick-fil-a\", \"starbucks\", \"mcdonalds\", \"restaurant\"],\n",
    "    \"Groceries\": [\"walmart\", \"publix\", \"kroger\", \"supermarket\"],\n",
    "    \"Gas & Transportation\": [\"shell\", \"bp\", \"chevron\", \"uber\", \"lyft\"],\n",
    "    \"Subscriptions\": [\"spotify\", \"netflix\", \"hulu\", \"apple.com/bill\"],\n",
    "}"
   ]
  },
  {
   "cell_type": "code",
   "execution_count": null,
   "metadata": {},
   "outputs": [
    {
     "name": "stdout",
     "output_type": "stream",
     "text": [
      "\n",
      "Check Deposits/ Withdrawals/ Ending daily\n",
      "Date Number Description Additions Subtractions balance\n",
      "10/25 Purchase authorized on 10/24 Chevron 0210048 Alpharetta 12.38 8,162.47\n",
      "GA S304298773774324 Card 5897\n",
      "10/28 Purchase authorized on 10/25 Chick-Fil-A #01170 Alpharetta 9.03\n",
      "GA S464299476040552 Card 5897\n",
      "10/28 Recurring Payment authorized on 10/25 Spotify 877-778-1161 11.99\n",
      "NY S584299502767203 Card 5897\n",
      "10/28 Purchase authorized on 10/26 Bp#1994789Capl Roswell GA 32.27\n",
      "P000000170875353 Card 5897\n",
      "10/28 Money Transfer authorized on 10/26 Venmo *Madison Ocarro 33.30\n",
      "VISA Direct NY S304300628807462 Card 5897\n",
      "10/28 Money Transfer authorized on 10/26 Venmo *Madison Ocarro 11.00\n",
      "VISA Direct NY S304300628882543 Card 5897\n",
      "10/28 Purchase authorized on 10/26 Total Wine and Alpharetta GA 18.31\n",
      "P000000772144318 Card 5897\n",
      "10/28 Purchase authorized on 10/26 Party City 292 7011 No 9.00\n",
      "Alpharetta GA P000000280477123 Card 5897\n",
      "10/28 Purchase authorized on 10/27 Tst*Brooklyn Bagel Johns Creek 11.10\n",
      "GA S304301601188639 Card 5897\n",
      "10/28 Purchase authorized on 10/27 Tst*Brooklyn Bagel Johns Creek 8.09 8,018.38\n",
      "GA S304301617450517 Card 5897\n",
      "10/30 Purchase authorized on 10/29 Amk Fiserv Alphare Alpharetta 4.31 8,014.07\n",
      "GA S584303442413815 Card 5897\n",
      "10/31 Fiserv Solutions Payroll 241031 24103110222306 Charles 1,799.73\n",
      "McCartney\n",
      "10/31 Purchase authorized on 10/30 Amk Fiserv Alphare Alpharetta 2.69 9,811.11\n",
      "GA S464304636159208 Card 5897\n",
      "11/1 Purchase authorized on 10/30 Chick-Fil-A #01170 Alpharetta 8.49\n",
      "GA S584304771752508 Card 5897\n",
      "11/1 Purchase authorized on 10/31 Andrews Hair Compa Alpharetta 40.00\n",
      "GA S384305592772523 Card 5897\n",
      "11/1 Purchase authorized on 11/01 WM Superc Wal-Mart Sup Destin 32.35 9,730.27\n",
      "FL P000000835424148 Card 5897\n",
      "11/4 Purchase authorized on 10/31 Chick-Fil-A # 0087 Alpharetta 15.98\n",
      "GA S584305597467139 Card 5897\n",
      "11/4 Purchase authorized on 10/31 Shell Oil 57542659 Alpharetta 28.14\n",
      "GA S304305729511690 Card 5897\n",
      "11/4 Purchase authorized on 11/01 Beach Liquors #4 Destin FL 43.35\n",
      "S384306732484362 Card 5897\n",
      "11/4 Purchase authorized on 11/02 Wal-Mart #1362 Destin FL 18.17 9,624.63\n",
      "P000000281468063 Card 5897\n",
      "11/6 Purchase authorized on 11/04 Chick-Fil-A #04471 Eufaula AL 13.63\n",
      "S384309685731226 Card 5897\n",
      "11/6 Nissan Ret Auto Loan 241104 1200083012 McCartney Charles 51.56 9,559.44\n",
      "11/7 Recurring Payment authorized on 11/04 Apple.Com/Bill 18.99\n",
      "866-712-7753 CA S304310233425627 Card 5897\n",
      "11/7 Purchase authorized on 11/06 Tst* Hudson Grille Atlanta GA 16.66\n",
      "S464312004924272 Card 5897\n",
      "11/7 Purchase authorized on 11/06 Levy State Farm AR Atlanta GA 13.61\n",
      "S584312038049570 Card 5897\n",
      "11/7 Purchase authorized on 11/06 Levy State Farm AR Atlanta GA 16.88\n",
      "S384312064151142 Card 5897\n",
      "November 26, 2024 Page 3 of 6\n",
      "Transaction history( continued)\n",
      "Check Deposits/ Withdrawals/ Ending daily\n",
      "Date Number Description Additions Subtractions balance\n",
      "11/7 Purchase authorized on 11/06 Levy State Farm AR Atlanta GA 7.70 9,485.60\n",
      "S384312078973285 Card 5897\n",
      "11/8 Purchase authorized on 11/08 Bp#1994789Capl Roswell GA 29.08 9,456.52\n",
      "P000000075312067 Card 5897\n",
      "11/12 Purchase authorized on 11/09 Tst*Brooklyn Bagel Johns Creek 10.46\n",
      "GA S464314654313202 Card 5897\n",
      "11/12 Purchase authorized on 11/09 Tst*Brooklyn Bagel Johns Creek 8.09\n",
      "GA S584314668981901 Card 5897\n",
      "11/12 Purchase authorized on 11/09 Marta Tvm Atlanta GA 6.00\n",
      "P000000774618505 Card 5897\n",
      "11/12 Purchase authorized on 11/09 Marta Tvm Atlanta GA 6.00\n",
      "P000000776520188 Card 5897\n",
      "11/12 Purchase authorized on 11/09 Publix #1061 Atlanta GA 7.87\n",
      "S304315016757810 Card 5897\n",
      "11/12 Purchase authorized on 11/09 Smith's Olde Bar NE Atlanta GA 8.40\n",
      "S384315215788770 Card 5897\n",
      "11/12 Purchase authorized on 11/09 Freshtx*Late Night 10.50\n",
      "6787016114 GA S304315219139803 Card 5897\n",
      "11/12 Purchase authorized on 11/09 Smith's Olde Bar NE Atlanta GA 33.45\n",
      "S384315237746580 Card 5897\n",
      "11/12 Purchase authorized on 11/09 Smith's Olde Bar NE Atlanta GA 7.43\n",
      "S584315257283227 Card 5897\n",
      "11/12 Purchase authorized on 11/10 Tst*Antico- West S Atlanta GA 26.04\n",
      "S584315775780737 Card 5897\n",
      "11/12 Purchase authorized on 11/10 Uber *Trip Help.Uber.Com CA 22.92\n",
      "S584315836533199 Card 5897\n",
      "11/12 Money Transfer authorized on 11/10 Venmo *Ryan Miller VISA 6.00\n",
      "Direct NY S304316131333863 Card 5897\n",
      "11/12 Purchase authorized on 11/12 Publix Super Mar 1425 Mar 22.81 9,280.55\n",
      "Roswell GA P304317811094335 Card 5897\n",
      "11/14 Purchase authorized on 11/13 Publix #1043 Roswell GA 20.25 9,260.30\n",
      "S384318822026486 Card 5897\n",
      "11/15 Fiserv Solutions Payroll 241115 24111510222306 Charles 1,799.72 11,060.02\n",
      "McCartney\n",
      "11/18 Purchase authorized on 11/14 Chick-Fil-A # 0087 Alpharetta 8.49\n",
      "GA S304319774291293 Card 5897\n",
      "11/18 Purchase authorized on 11/16 Panda Express 1678 Alpharetta 10.56\n",
      "GA S464321727006369 Card 5897\n",
      "11/18 Purchase authorized on 11/16 Chevron 0210048 Alpharetta 21.28\n",
      "GA S464321818627122 Card 5897\n",
      "11/18 Purchase authorized on 11/16 Deerfield Pkwy Alpharetta GA 12.92 11,006.77\n",
      "P304321821189872 Card 5897\n",
      "11/19 Purchase authorized on 11/19 Bp#1994789Capl Roswell GA 43.06 10,963.71\n",
      "P000000274063811 Card 5897\n",
      "11/22 Purchase authorized on 11/20 Chick-Fil-A # 0087 Alpharetta 8.49 10,955.22\n",
      "GA S464325788648380 Card 5897\n",
      "11/25 Purchase authorized on 11/21 Chick-Fil-A # 0087 Alpharetta 8.49\n",
      "GA S304326800982676 Card 5897\n",
      "11/25 Purchase authorized on 11/23 Bp#1994789Capl Roswell GA 32.27\n",
      "P000000970015874 Card 5897\n",
      "11/25 Purchase authorized on 11/23 Chevron 0210048 Alpharetta 12.92\n",
      "GA S464328844363150 Card 5897\n",
      "11/25 Money Transfer authorized on 11/25 Venmo *Eliott Bell VISA 50.00 10,851.54\n",
      "Direct NY S304330808832972 Card 5897\n",
      "11/26 Purchase authorized on 11/24 Taqueria Tsunami - 26.54\n",
      "770-9931530 GA S584329860228444 Card 5897\n",
      "11/26 Recurring Payment authorized on 11/25 Spotify 877-778-1161 11.99 10,813.01\n",
      "NY S584330502749565 Card 5897\n",
      "Ending balance on 11/26 10,813.01\n",
      "Totals $3,599.45 $961.29\n",
      "November 26, 2024 Page 4 of 6\n",
      "\n"
     ]
    }
   ],
   "source": [
    "### Extract relevant portion of statments document \n",
    "\n",
    "pdf_path = 'Documents/_112624 WellsFargo.pdf'\n",
    "\n",
    "# Extract text from the PDF\n",
    "with pdfplumber.open(pdf_path) as pdf:\n",
    "    full_text = \"\\n\".join(page.extract_text() for page in pdf.pages if page.extract_text())\n",
    "\n",
    "# Use regex to extract only the transaction history section\n",
    "cleaned_text = re.search(r\"Transaction history(.*?)Monthly service fee summary\", full_text, re.DOTALL)\n",
    "\n",
    "if cleaned_text:\n",
    "    transactions_text = cleaned_text.group(1)  # Extract the matched section\n",
    "    print(transactions_text)  # Print to verify\n",
    "else:\n",
    "    print(\"Transaction history section not found\")"
   ]
  },
  {
   "cell_type": "code",
   "execution_count": 7,
   "metadata": {},
   "outputs": [
    {
     "name": "stdout",
     "output_type": "stream",
     "text": [
      "Raw Transaction Line: 10/25 Purchase authorized on 10/24 Chevron 0210048 Alpharetta 12.38 8,162.47\n",
      "Raw Transaction Line: 11/12 Purchase authorized on 11/09 Tst*Brooklyn Bagel Johns Creek 10.46\n"
     ]
    }
   ],
   "source": [
    "# Open the PDF and extract text\n",
    "with pdfplumber.open(pdf_path) as pdf:\n",
    "    for page in pdf.pages:\n",
    "        text = page.extract_text()\n",
    "        if text:\n",
    "            lines = text.split(\"\\n\")  # Split text into individual lines\n",
    "            for line in lines:\n",
    "                # Detect a transaction (assuming date in MM/DD format is at the start)\n",
    "                if re.match(r\"^\\d{2}/\\d{2}\", line):  \n",
    "                    print(\"Raw Transaction Line:\", line)  # Print only the first transaction found\n",
    "                    break  # Stop after the first one"
   ]
  }
 ],
 "metadata": {
  "kernelspec": {
   "display_name": "base",
   "language": "python",
   "name": "python3"
  },
  "language_info": {
   "codemirror_mode": {
    "name": "ipython",
    "version": 3
   },
   "file_extension": ".py",
   "mimetype": "text/x-python",
   "name": "python",
   "nbconvert_exporter": "python",
   "pygments_lexer": "ipython3",
   "version": "3.10.12"
  }
 },
 "nbformat": 4,
 "nbformat_minor": 2
}
