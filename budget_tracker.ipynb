{
 "cells": [
  {
   "cell_type": "code",
   "execution_count": 1,
   "metadata": {},
   "outputs": [
    {
     "name": "stdout",
     "output_type": "stream",
     "text": [
      "c:\\Users\\charl\\miniforge3\\envs\\myenv\\python.exe\n"
     ]
    }
   ],
   "source": [
    "# Confirming correct kernel in notebook\n",
    "\n",
    "import sys \n",
    "print(sys.executable)"
   ]
  },
  {
   "cell_type": "code",
   "execution_count": 2,
   "metadata": {},
   "outputs": [
    {
     "name": "stdout",
     "output_type": "stream",
     "text": [
      "Requirement already satisfied: tabula in c:\\users\\charl\\miniforge3\\envs\\myenv\\lib\\site-packages (1.0.5)\n",
      "Requirement already satisfied: setuptools in c:\\users\\charl\\miniforge3\\envs\\myenv\\lib\\site-packages (from tabula) (75.6.0)\n",
      "Requirement already satisfied: numpy in c:\\users\\charl\\miniforge3\\envs\\myenv\\lib\\site-packages (from tabula) (2.2.0)\n",
      "Note: you may need to restart the kernel to use updated packages.\n",
      "Requirement already satisfied: pandas in c:\\users\\charl\\miniforge3\\envs\\myenv\\lib\\site-packages (2.2.3)\n",
      "Requirement already satisfied: numpy>=1.23.2 in c:\\users\\charl\\miniforge3\\envs\\myenv\\lib\\site-packages (from pandas) (2.2.0)\n",
      "Requirement already satisfied: python-dateutil>=2.8.2 in c:\\users\\charl\\miniforge3\\envs\\myenv\\lib\\site-packages (from pandas) (2.9.0.post0)\n",
      "Requirement already satisfied: pytz>=2020.1 in c:\\users\\charl\\miniforge3\\envs\\myenv\\lib\\site-packages (from pandas) (2024.2)\n",
      "Requirement already satisfied: tzdata>=2022.7 in c:\\users\\charl\\miniforge3\\envs\\myenv\\lib\\site-packages (from pandas) (2024.2)\n",
      "Requirement already satisfied: six>=1.5 in c:\\users\\charl\\miniforge3\\envs\\myenv\\lib\\site-packages (from python-dateutil>=2.8.2->pandas) (1.17.0)\n",
      "Note: you may need to restart the kernel to use updated packages.\n"
     ]
    }
   ],
   "source": [
    "%pip install tabula \n",
    "%pip install pandas"
   ]
  },
  {
   "cell_type": "code",
   "execution_count": 3,
   "metadata": {},
   "outputs": [
    {
     "name": "stdout",
     "output_type": "stream",
     "text": [
      "['__builtins__', '__cached__', '__doc__', '__file__', '__loader__', '__name__', '__package__', '__path__', '__spec__']\n"
     ]
    }
   ],
   "source": [
    "import tabula\n",
    "\n",
    "# Check if the `read_pdf` function is available\n",
    "print(dir(tabula))\n"
   ]
  },
  {
   "cell_type": "code",
   "execution_count": 5,
   "metadata": {},
   "outputs": [
    {
     "ename": "AttributeError",
     "evalue": "module 'tabula' has no attribute 'io'",
     "output_type": "error",
     "traceback": [
      "\u001b[1;31m---------------------------------------------------------------------------\u001b[0m",
      "\u001b[1;31mAttributeError\u001b[0m                            Traceback (most recent call last)",
      "Cell \u001b[1;32mIn[5], line 16\u001b[0m\n\u001b[0;32m     12\u001b[0m pdf_file_path \u001b[38;5;241m=\u001b[39m os\u001b[38;5;241m.\u001b[39mpath\u001b[38;5;241m.\u001b[39mjoin(documents_folder, \u001b[38;5;124m'\u001b[39m\u001b[38;5;124m_112625 WellsFargo.pdf\u001b[39m\u001b[38;5;124m'\u001b[39m)\n\u001b[0;32m     14\u001b[0m \u001b[38;5;66;03m# Step 4: Use tabula to extract tables from the PDF file\u001b[39;00m\n\u001b[0;32m     15\u001b[0m \u001b[38;5;66;03m# tabula.read_pdf returns a list of DataFrames\u001b[39;00m\n\u001b[1;32m---> 16\u001b[0m tables \u001b[38;5;241m=\u001b[39m \u001b[43mtabula\u001b[49m\u001b[38;5;241;43m.\u001b[39;49m\u001b[43mio\u001b[49m\u001b[38;5;241m.\u001b[39mread_pdf(pdf_file_path, pages\u001b[38;5;241m=\u001b[39m\u001b[38;5;124m'\u001b[39m\u001b[38;5;124mall\u001b[39m\u001b[38;5;124m'\u001b[39m, multiple_tables\u001b[38;5;241m=\u001b[39m\u001b[38;5;28;01mTrue\u001b[39;00m)\n\u001b[0;32m     18\u001b[0m \u001b[38;5;66;03m# Step 5: Check how many tables were found\u001b[39;00m\n\u001b[0;32m     19\u001b[0m \u001b[38;5;28mprint\u001b[39m(\u001b[38;5;124mf\u001b[39m\u001b[38;5;124m\"\u001b[39m\u001b[38;5;124mFound \u001b[39m\u001b[38;5;132;01m{\u001b[39;00m\u001b[38;5;28mlen\u001b[39m(tables)\u001b[38;5;132;01m}\u001b[39;00m\u001b[38;5;124m tables in the PDF.\u001b[39m\u001b[38;5;124m\"\u001b[39m)\n",
      "\u001b[1;31mAttributeError\u001b[0m: module 'tabula' has no attribute 'io'"
     ]
    }
   ],
   "source": [
    "import os\n",
    "import tabula\n",
    "import pandas as pd\n",
    "\n",
    "# Step 1: Get the current working directory\n",
    "current_directory = os.getcwd()\n",
    "\n",
    "# Step 2: Construct the path to the 'Documents' folder\n",
    "documents_folder = os.path.join(current_directory, 'Documents')\n",
    "\n",
    "# Step 3: Construct the full path to the PDF file\n",
    "pdf_file_path = os.path.join(documents_folder, '_112625 WellsFargo.pdf')\n",
    "\n",
    "# Step 4: Use tabula to extract tables from the PDF file\n",
    "# tabula.read_pdf returns a list of DataFrames\n",
    "tables = tabula.io.read_pdf(pdf_file_path, pages='all', multiple_tables=True)\n",
    "\n",
    "# Step 5: Check how many tables were found\n",
    "print(f\"Found {len(tables)} tables in the PDF.\")\n",
    "\n",
    "# Step 6: Export each table to a separate sheet in an Excel file\n",
    "excel_output_path = os.path.join(documents_folder, \"WellsFargo_Statements.xlsx\")\n",
    "\n",
    "with pd.ExcelWriter(excel_output_path) as writer:\n",
    "    for i, table in enumerate(tables):\n",
    "        table.to_excel(writer, sheet_name=f\"Sheet{i+1}\", index=False)\n",
    "\n",
    "print(f\"Excel file saved to: {excel_output_path}\")\n"
   ]
  }
 ],
 "metadata": {
  "kernelspec": {
   "display_name": "myenv",
   "language": "python",
   "name": "python3"
  },
  "language_info": {
   "codemirror_mode": {
    "name": "ipython",
    "version": 3
   },
   "file_extension": ".py",
   "mimetype": "text/x-python",
   "name": "python",
   "nbconvert_exporter": "python",
   "pygments_lexer": "ipython3",
   "version": "3.11.11"
  }
 },
 "nbformat": 4,
 "nbformat_minor": 2
}
